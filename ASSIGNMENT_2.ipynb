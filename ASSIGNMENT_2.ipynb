{
  "nbformat": 4,
  "nbformat_minor": 0,
  "metadata": {
    "colab": {
      "name": "ASSIGNMENT 2.ipynb",
      "provenance": [],
      "authorship_tag": "ABX9TyMTr2/sqfi4p87K10/csMHO",
      "include_colab_link": true
    },
    "kernelspec": {
      "name": "python3",
      "display_name": "Python 3"
    },
    "language_info": {
      "name": "python"
    }
  },
  "cells": [
    {
      "cell_type": "markdown",
      "metadata": {
        "id": "view-in-github",
        "colab_type": "text"
      },
      "source": [
        "<a href=\"https://colab.research.google.com/github/sai2722/ASSIGNMENT-DAY-2/blob/main/ASSIGNMENT_2.ipynb\" target=\"_parent\"><img src=\"https://colab.research.google.com/assets/colab-badge.svg\" alt=\"Open In Colab\"/></a>"
      ]
    },
    {
      "cell_type": "markdown",
      "metadata": {
        "id": "Gco9KndEQ92v"
      },
      "source": [
        ""
      ]
    },
    {
      "cell_type": "code",
      "metadata": {
        "colab": {
          "base_uri": "https://localhost:8080/"
        },
        "id": "Tgjv7g2kr24T",
        "outputId": "97f58fca-cd5c-4404-9b5d-1c616e570171"
      },
      "source": [
        "s = \"hello\"\n",
        "s_set = set(s)\n",
        "count = {}\n",
        "for x in s_set:\n",
        "    c = 0\n",
        "    for y in s:\n",
        "        if x == y:\n",
        "            c = c + 1\n",
        "    count[x] = c\n",
        "\n",
        "for i in count:\n",
        "    print(f\"{i} - {count[i]}\")  \n"
      ],
      "execution_count": 15,
      "outputs": [
        {
          "output_type": "stream",
          "text": [
            "l - 2\n",
            "h - 1\n",
            "e - 1\n",
            "o - 1\n"
          ],
          "name": "stdout"
        }
      ]
    },
    {
      "cell_type": "code",
      "metadata": {
        "id": "aEEwoCjIs78W"
      },
      "source": [
        ""
      ],
      "execution_count": 5,
      "outputs": []
    }
  ]
}